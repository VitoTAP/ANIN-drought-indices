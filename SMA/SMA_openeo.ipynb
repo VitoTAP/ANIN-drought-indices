{
 "cells": [
  {
   "cell_type": "code",
   "execution_count": 1,
   "id": "97e9f5f6",
   "metadata": {},
   "outputs": [],
   "source": [
    "import sys\n",
    "sys.path.append(\"..\")\n",
    "from openeo_utils.utils import *"
   ]
  },
  {
   "cell_type": "code",
   "execution_count": 11,
   "id": "9af0b7d8",
   "metadata": {},
   "outputs": [],
   "source": [
    "connection = get_connection()\n",
    "\n",
    "temporal_extent = [\"2023-09-01\", \"2023-10-01\"]  # open ended interval\n",
    "\n",
    "SMA_dc = connection.load_stac(\n",
    "    # Path on backend server. Acces by loging into a free Terrascope VM:\n",
    "    url=\"/data/users/Public/emile.sonneveld/ANIN/SMA_openeo_cropped_v03/stac/v0.2/collection.json\",\n",
    "    temporal_extent=temporal_extent,\n",
    "    spatial_extent=spatial_extent_south_africa,\n",
    "    bands=[\"SMA_openeo_cropped\"],\n",
    ")\n",
    "SMA_dc = SMA_dc.filter_temporal(temporal_extent)\n",
    "SMA_dc = SMA_dc.aggregate_temporal_period(\"month\", reducer=\"mean\")\n",
    "SMA_dc = SMA_dc.rename_labels(\"bands\", [\"SMA\"])\n",
    "SMA_dc *= 2\n",
    "#geojson = load_south_africa_geojson()\n",
    "geojson = load_johannesburg_geojson()\n",
    "SMA_dc = SMA_dc.filter_spatial(geojson)\n"
   ]
  },
  {
   "cell_type": "code",
   "execution_count": null,
   "id": "c9b7ccdf",
   "metadata": {},
   "outputs": [],
   "source": [
    "output_path = Path(os.getcwd()) / \"out-SMA.nc\"\n",
    "SMA_dc.download(output_path)"
   ]
  },
  {
   "cell_type": "code",
   "execution_count": null,
   "id": "3a78174c",
   "metadata": {},
   "outputs": [],
   "source": [
    "import xarray as xr\n",
    "\n",
    "ds = xr.open_dataset(output_path)\n",
    "ds"
   ]
  },
  {
   "cell_type": "code",
   "execution_count": null,
   "id": "9814ad3c",
   "metadata": {},
   "outputs": [],
   "source": [
    "import matplotlib.pyplot as plt\n",
    "var = ds[\"SMA\"]\n",
    "\n",
    "var.plot(cmap=\"RdBu\")  # Use a colormap that suits your data\n",
    "plt.show()\n",
    "\n",
    "ds.close()"
   ]
  }
 ],
 "metadata": {
  "kernelspec": {
   "display_name": "Python 3 (ipykernel)",
   "language": "python",
   "name": "python3"
  },
  "language_info": {
   "codemirror_mode": {
    "name": "ipython",
    "version": 3
   },
   "file_extension": ".py",
   "mimetype": "text/x-python",
   "name": "python",
   "nbconvert_exporter": "python",
   "pygments_lexer": "ipython3",
   "version": "3.8.18"
  }
 },
 "nbformat": 4,
 "nbformat_minor": 5
}
