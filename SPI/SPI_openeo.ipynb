{
 "cells": [
  {
   "cell_type": "code",
   "execution_count": 2,
   "id": "97e9f5f6",
   "metadata": {},
   "outputs": [
    {
     "name": "stdout",
     "output_type": "stream",
     "text": [
      "Authenticated using refresh token.\n",
      "https://openeocloud.vito.be/openeo/1.0.0/ time: 2024-04-09 21:02:41.438437\n"
     ]
    }
   ],
   "source": [
    "import sys\n",
    "sys.path.append(\"..\")\n",
    "from SPI.SPI_openeo import *"
   ]
  },
  {
   "cell_type": "code",
   "execution_count": 3,
   "id": "9af0b7d8",
   "metadata": {},
   "outputs": [
    {
     "name": "stdout",
     "output_type": "stream",
     "text": [
      "Could not attach GIT info: /tmp/ipykernel_115691\n",
      "output_dir=/tmp/ipykernel_115691/out-2024-04-09_21_02_41.438437\n",
      "/tmp/ipykernel_115691/out-2024-04-09_21_02_41.438437/\n",
      "0:00:00 Job 'vito-j-24040978893c4fd2b883e74b620e9eda': send 'start'\n",
      "0:00:20 Job 'vito-j-24040978893c4fd2b883e74b620e9eda': queued (progress N/A)\n",
      "0:00:25 Job 'vito-j-24040978893c4fd2b883e74b620e9eda': queued (progress N/A)\n",
      "0:00:32 Job 'vito-j-24040978893c4fd2b883e74b620e9eda': queued (progress N/A)\n",
      "0:00:43 Job 'vito-j-24040978893c4fd2b883e74b620e9eda': queued (progress N/A)\n",
      "0:00:53 Job 'vito-j-24040978893c4fd2b883e74b620e9eda': queued (progress N/A)\n",
      "0:01:06 Job 'vito-j-24040978893c4fd2b883e74b620e9eda': queued (progress N/A)\n",
      "0:01:23 Job 'vito-j-24040978893c4fd2b883e74b620e9eda': queued (progress N/A)\n",
      "0:01:43 Job 'vito-j-24040978893c4fd2b883e74b620e9eda': queued (progress N/A)\n",
      "0:02:09 Job 'vito-j-24040978893c4fd2b883e74b620e9eda': running (progress N/A)\n",
      "0:02:39 Job 'vito-j-24040978893c4fd2b883e74b620e9eda': running (progress N/A)\n",
      "0:03:17 Job 'vito-j-24040978893c4fd2b883e74b620e9eda': running (progress N/A)\n",
      "0:04:05 Job 'vito-j-24040978893c4fd2b883e74b620e9eda': running (progress N/A)\n",
      "0:05:04 Job 'vito-j-24040978893c4fd2b883e74b620e9eda': running (progress N/A)\n",
      "0:06:06 Job 'vito-j-24040978893c4fd2b883e74b620e9eda': running (progress N/A)\n",
      "0:07:08 Job 'vito-j-24040978893c4fd2b883e74b620e9eda': running (progress N/A)\n",
      "0:08:08 Job 'vito-j-24040978893c4fd2b883e74b620e9eda': running (progress N/A)\n",
      "0:09:09 Job 'vito-j-24040978893c4fd2b883e74b620e9eda': running (progress N/A)\n",
      "0:10:11 Job 'vito-j-24040978893c4fd2b883e74b620e9eda': finished (progress N/A)\n",
      "STAC results url: https://openeo.vito.be/openeo/1.1/jobs/j-24040978893c4fd2b883e74b620e9eda/results/YzkwNzQyODYzMmI0NmNiNDA2ZWYwMmEwMWE0YTVkYzM0YWVkYWQzNzAzNjlkN2I5ZDVjMzE0YTNiNjY2ZmQwM0BlZ2kuZXU=/2a8ec97b2e1b60207c1ae71fefa3a69f?expires=1713297875\n",
      "custom_execute_batch end time: 2024-04-09 22:04:39.152075\n"
     ]
    }
   ],
   "source": [
    "dc = SPI_dc\n",
    "dc = dc.filter_temporal([\"2022-01-01\", \"2022-03-01\"])\n",
    "# out_format = \"NetCDF\"\n",
    "out_format = \"GTiff\"\n",
    "dc = dc.save_result(format=out_format)\n",
    "custom_execute_batch(dc, job_options=heavy_job_options, out_format=out_format)"
   ]
  }
 ],
 "metadata": {
  "kernelspec": {
   "display_name": "Python 3 (ipykernel)",
   "language": "python",
   "name": "python3"
  },
  "language_info": {
   "codemirror_mode": {
    "name": "ipython",
    "version": 3
   },
   "file_extension": ".py",
   "mimetype": "text/x-python",
   "name": "python",
   "nbconvert_exporter": "python",
   "pygments_lexer": "ipython3",
   "version": "3.8.18"
  }
 },
 "nbformat": 4,
 "nbformat_minor": 5
}
